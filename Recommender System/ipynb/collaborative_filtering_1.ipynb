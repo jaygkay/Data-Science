{
 "cells": [
  {
   "cell_type": "code",
   "execution_count": 1,
   "metadata": {},
   "outputs": [],
   "source": [
    "import pandas as pd\n",
    "import matplotlib.pyplot as plt\n",
    "from surprise import KNNBasic\n",
    "from surprise import Dataset\n",
    "from surprise.model_selection import KFold\n",
    "from surprise.model_selection import cross_validate\n",
    "from surprise.model_selection import PredefinedKFold\n",
    "from surprise.model_selection import train_test_split\n",
    "from surprise.accuracy import rmse\n",
    "from surprise import Reader\n",
    "from surprise import KNNWithMeans\n",
    "\n",
    "import warnings\n",
    "warnings.filterwarnings('ignore')"
   ]
  },
  {
   "cell_type": "markdown",
   "metadata": {},
   "source": [
    " - Compare ItemBased and UserBased knn algorithms on the \"ml-100k\" data set. Use KNNWithMeans, distance metric pearson for user-based and cosine for item-based.\n",
    " - Use 5-fold cross-validation with a fixed random state so that both algorithms have the same training and test data.\n",
    " - You do not need to compute both MAE and RMSE, use RMSE only.\n",
    " - Using matplotlib, create a box plot of the RMSE distribution across the various folds.\n"
   ]
  },
  {
   "cell_type": "markdown",
   "metadata": {},
   "source": [
    "#### USER_BASED with PEARSON"
   ]
  },
  {
   "cell_type": "code",
   "execution_count": 2,
   "metadata": {},
   "outputs": [
    {
     "name": "stdout",
     "output_type": "stream",
     "text": [
      "Estimating biases using als...\n",
      "Computing the pearson_baseline similarity matrix...\n",
      "Done computing similarity matrix.\n",
      "RMSE: 0.9415\n",
      "RMSE: 0.9415\n",
      "Estimating biases using als...\n",
      "Computing the pearson_baseline similarity matrix...\n",
      "Done computing similarity matrix.\n",
      "RMSE: 0.9341\n",
      "RMSE: 0.9341\n",
      "Estimating biases using als...\n",
      "Computing the pearson_baseline similarity matrix...\n",
      "Done computing similarity matrix.\n",
      "RMSE: 0.9405\n",
      "RMSE: 0.9405\n",
      "Estimating biases using als...\n",
      "Computing the pearson_baseline similarity matrix...\n",
      "Done computing similarity matrix.\n",
      "RMSE: 0.9364\n",
      "RMSE: 0.9364\n",
      "Estimating biases using als...\n",
      "Computing the pearson_baseline similarity matrix...\n",
      "Done computing similarity matrix.\n",
      "RMSE: 0.9320\n",
      "RMSE: 0.9320\n"
     ]
    }
   ],
   "source": [
    "data = Dataset.load_builtin('ml-100k')\n",
    "\n",
    "cv = KFold(n_splits = 5, random_state = 30)\n",
    "user = {'name':'pearson_baseline', 'user_based':True}\n",
    "algo_user = KNNWithMeans(sim_options = user)\n",
    "rmse_user = []\n",
    "\n",
    "for trainset, testset in cv.split(data):\n",
    "#for trainset, testset in pkf.split(data):\n",
    "    algo_user.fit(trainset)\n",
    "    pred_user = algo_user.test(testset)\n",
    "    rmse_user.append(rmse(pred_user))\n",
    "    rmse(pred_user)"
   ]
  },
  {
   "cell_type": "code",
   "execution_count": 3,
   "metadata": {},
   "outputs": [
    {
     "data": {
      "text/plain": [
       "[0.941471149133091,\n",
       " 0.9341179750049265,\n",
       " 0.9404906950543632,\n",
       " 0.936371961563906,\n",
       " 0.9319632634694806]"
      ]
     },
     "execution_count": 3,
     "metadata": {},
     "output_type": "execute_result"
    }
   ],
   "source": [
    "rmse_user"
   ]
  },
  {
   "cell_type": "markdown",
   "metadata": {},
   "source": [
    "#### ITEM_BASED with COSINE"
   ]
  },
  {
   "cell_type": "code",
   "execution_count": 4,
   "metadata": {},
   "outputs": [
    {
     "name": "stdout",
     "output_type": "stream",
     "text": [
      "Computing the cosine similarity matrix...\n",
      "Done computing similarity matrix.\n",
      "RMSE: 0.9487\n",
      "RMSE: 0.9487\n",
      "Computing the cosine similarity matrix...\n",
      "Done computing similarity matrix.\n",
      "RMSE: 0.9395\n",
      "RMSE: 0.9395\n",
      "Computing the cosine similarity matrix...\n",
      "Done computing similarity matrix.\n",
      "RMSE: 0.9435\n",
      "RMSE: 0.9435\n",
      "Computing the cosine similarity matrix...\n",
      "Done computing similarity matrix.\n",
      "RMSE: 0.9437\n",
      "RMSE: 0.9437\n",
      "Computing the cosine similarity matrix...\n",
      "Done computing similarity matrix.\n",
      "RMSE: 0.9386\n",
      "RMSE: 0.9386\n"
     ]
    }
   ],
   "source": [
    "item = {'name':'cosine', 'user_based':False}\n",
    "algo_item = KNNWithMeans(sim_options = item)\n",
    "rmse_item = []\n",
    "for trainset, testset in cv.split(data):\n",
    "    algo_item.fit(trainset)\n",
    "    pred_item = algo_item.test(testset)\n",
    "    rmse(pred_item)\n",
    "    rmse_item.append(rmse(pred_item))    "
   ]
  },
  {
   "cell_type": "code",
   "execution_count": 5,
   "metadata": {},
   "outputs": [
    {
     "data": {
      "text/plain": [
       "[0.9486853541017138,\n",
       " 0.939518889614315,\n",
       " 0.9435269556107996,\n",
       " 0.9437424780948772,\n",
       " 0.9385597125137896]"
      ]
     },
     "execution_count": 5,
     "metadata": {},
     "output_type": "execute_result"
    }
   ],
   "source": [
    "rmse_item"
   ]
  },
  {
   "cell_type": "markdown",
   "metadata": {},
   "source": [
    "### Summary"
   ]
  },
  {
   "cell_type": "code",
   "execution_count": 6,
   "metadata": {},
   "outputs": [],
   "source": [
    "# paired t-test\n",
    "from scipy import stats\n",
    "ttest = stats.ttest_rel(rmse_user, rmse_item)\n",
    "res = []\n",
    "for i in ttest:\n",
    "    res.append(i)\n",
    "# rmse for user and item\n",
    "name = ['User_based','Item_based']\n",
    "df = pd.DataFrame([rmse_user, rmse_item], index = name)"
   ]
  },
  {
   "cell_type": "markdown",
   "metadata": {},
   "source": [
    "### Results"
   ]
  },
  {
   "cell_type": "code",
   "execution_count": 7,
   "metadata": {},
   "outputs": [
    {
     "name": "stdout",
     "output_type": "stream",
     "text": [
      "\u001b[1m\u001b[34m<RMSE for User_based and Item_based>\u001b[0m\n",
      "                   0         1         2         3         4\n",
      "User_based  0.941471  0.934118  0.940491  0.936372  0.931963\n",
      "Item_based  0.948685  0.939519  0.943527  0.943742  0.938560\n",
      "\n",
      "\u001b[1m\u001b[34m<Significance of the deffience between User_based and Item_based>\u001b[0m\n"
     ]
    },
    {
     "data": {
      "image/png": "[encoded data removed]",
      "text/plain": [
       "<matplotlib.figure.Figure at 0x111005630>"
      ]
     },
     "metadata": {},
     "output_type": "display_data"
    },
    {
     "name": "stdout",
     "output_type": "stream",
     "text": [
      "\n",
      "\u001b[1m\u001b[34m<Paired T-statistics Results>\u001b[0m\n",
      "Paired T-stat -7.398264904912972\n",
      "Paired P-value 0.0017803393665215658\n"
     ]
    }
   ],
   "source": [
    "from termcolor import colored\n",
    "title1 = colored(\"<RMSE for User_based and Item_based>\", \"blue\", attrs = [\"bold\"])\n",
    "title2 = colored(\"<Significance of the deffience between User_based and Item_based>\", \n",
    "                 \"blue\", attrs = [\"bold\"])\n",
    "title3 = colored(\"<Paired T-statistics Results>\", \"blue\", attrs = [\"bold\"])\n",
    "print(title1)\n",
    "#print colored(\"RMSE for User_based and Item_based\", \"blue\")\n",
    "print(df)\n",
    "print()\n",
    "print(title2)\n",
    "results = [rmse_item, rmse_user]\n",
    "box = pd.DataFrame(results, index = ['Item_based','User_based'])\n",
    "box.T.boxplot(vert = False)\n",
    "plt.show()\n",
    "print()\n",
    "print(title3)\n",
    "print(\"Paired T-stat\", res[0])\n",
    "print(\"Paired P-value\", res[1])\n"
   ]
  },
  {
   "cell_type": "code",
   "execution_count": null,
   "metadata": {},
   "outputs": [],
   "source": []
  }
 ],
 "metadata": {
  "kernelspec": {
   "display_name": "Python 3",
   "language": "python",
   "name": "python3"
  },
  "language_info": {
   "codemirror_mode": {
    "name": "ipython",
    "version": 3
   },
   "file_extension": ".py",
   "mimetype": "text/x-python",
   "name": "python",
   "nbconvert_exporter": "python",
   "pygments_lexer": "ipython3",
   "version": "3.7.3"
  }
 },
 "nbformat": 4,
 "nbformat_minor": 2
}
