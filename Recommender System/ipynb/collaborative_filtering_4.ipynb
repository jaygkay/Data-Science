{
 "cells": [
  {
   "cell_type": "markdown",
   "metadata": {},
   "source": [
    "### Part I: Implement hybrid recommendation\n",
    "- Starting from the existing WeightedHybrid class in the hybrid.py file, implement a linear weighted hybrid within Surprise. The class will have the following capabilities:\n",
    "- The constructor can take any number of components in its constructor.\n",
    "- The fitting process should fit all the components and then use linear regression of errors in the test data to find the optimal weights for each component.\n",
    "- The weights should be normalized to sum to 1.0 with negative weights set to zero.\n",
    "- The prediction process should calculate predictions for each component and then created a weighted sum for the final prediction.\n",
    "- Note that the prediction process outputs a Prediction object. All information created by the component predictors should be represented in the output Prediction object.\n",
    "- Verify that your implementation is correct by running the unit tests at the end of the sigweight.py file.\n",
    "\n",
    "### Part II: Experiments\n",
    "- Verify your implementation with the Test Code at the bottom of the Homework 4 jupyter notebook.\n",
    "- Using the MovieLens 100k data set, compare a hybrid of user- and item-based collaborative recommendation with the performance of each algorithm separately.\n",
    "- Use 5-fold cross-validation.\n",
    "- Produce a boxplot of the RMSE values\n",
    "\n",
    "Hybrid / ensemble recommendation"
   ]
  },
  {
   "cell_type": "markdown",
   "metadata": {},
   "source": [
    "## Load libraries\n",
    "Generic libraries"
   ]
  },
  {
   "cell_type": "code",
   "execution_count": 1,
   "metadata": {},
   "outputs": [],
   "source": [
    "import pandas as pd\n",
    "import numpy as np\n",
    "from matplotlib import pyplot as plt"
   ]
  },
  {
   "cell_type": "markdown",
   "metadata": {},
   "source": [
    "Surprise"
   ]
  },
  {
   "cell_type": "code",
   "execution_count": 2,
   "metadata": {},
   "outputs": [],
   "source": [
    "from surprise import KNNWithMeans, SVD, SVDpp, CoClustering, NMF, SlopeOne, BaselineOnly\n",
    "from surprise import Reader, Dataset\n",
    "from surprise.model_selection import cross_validate, KFold"
   ]
  },
  {
   "cell_type": "markdown",
   "metadata": {},
   "source": [
    "WeightedHybrid from first part of assignment"
   ]
  },
  {
   "cell_type": "code",
   "execution_count": 3,
   "metadata": {},
   "outputs": [],
   "source": [
    "%load_ext autoreload\n",
    "%autoreload\n",
    "from hybrid import WeightedHybrid"
   ]
  },
  {
   "cell_type": "markdown",
   "metadata": {},
   "source": [
    "## Experiments"
   ]
  },
  {
   "cell_type": "code",
   "execution_count": 4,
   "metadata": {},
   "outputs": [],
   "source": [
    "\n",
    "data = Dataset.load_builtin('ml-100k')\n",
    "fold5 = KFold(n_splits=5, random_state=1, shuffle=False)\n",
    "algo1 = KNNWithMeans(k=2, sim_options={'name': 'cosine', 'user_based': True})\n",
    "algo2 = KNNWithMeans(k=2, sim_options={'name': 'cosine', 'user_based': False})\n",
    "hybrid = WeightedHybrid([algo1, algo2])\n"
   ]
  },
  {
   "cell_type": "code",
   "execution_count": 5,
   "metadata": {},
   "outputs": [
    {
     "name": "stdout",
     "output_type": "stream",
     "text": [
      "Computing the cosine similarity matrix...\n",
      "Computing the cosine similarity matrix...\n",
      "Computing the cosine similarity matrix...\n",
      "Computing the cosine similarity matrix...\n",
      "Done computing similarity matrix.\n",
      "Done computing similarity matrix.\n",
      "Done computing similarity matrix.\n",
      "Done computing similarity matrix.\n",
      "Computing the cosine similarity matrix...\n",
      "Done computing similarity matrix.\n",
      "Evaluating RMSE of algorithm KNNWithMeans on 5 split(s).\n",
      "\n",
      "                  Fold 1  Fold 2  Fold 3  Fold 4  Fold 5  Mean    Std     \n",
      "RMSE (testset)    1.1433  1.1397  1.1395  1.1366  1.1360  1.1390  0.0026  \n",
      "Fit time          1.55    1.65    1.59    1.41    1.01    1.44    0.23    \n",
      "Test time         1.38    1.29    1.30    1.29    1.30    1.31    0.03    \n"
     ]
    }
   ],
   "source": [
    "output1 = cross_validate(algo1, data, measures=['RMSE'], cv=fold5, verbose=True)"
   ]
  },
  {
   "cell_type": "code",
   "execution_count": 6,
   "metadata": {},
   "outputs": [
    {
     "name": "stdout",
     "output_type": "stream",
     "text": [
      "Computing the cosine similarity matrix...\n",
      "Computing the cosine similarity matrix...\n",
      "Computing the cosine similarity matrix...\n",
      "Computing the cosine similarity matrix...\n",
      "Done computing similarity matrix.\n",
      "Done computing similarity matrix.\n",
      "Done computing similarity matrix.\n",
      "Done computing similarity matrix.\n",
      "Computing the cosine similarity matrix...\n",
      "Done computing similarity matrix.\n",
      "Evaluating RMSE of algorithm KNNWithMeans on 5 split(s).\n",
      "\n",
      "                  Fold 1  Fold 2  Fold 3  Fold 4  Fold 5  Mean    Std     \n",
      "RMSE (testset)    1.1495  1.1351  1.1312  1.1215  1.1266  1.1328  0.0095  \n",
      "Fit time          2.29    2.23    2.16    2.10    1.81    2.12    0.17    \n",
      "Test time         1.26    1.43    1.46    1.37    1.28    1.36    0.08    \n"
     ]
    }
   ],
   "source": [
    "output2 = cross_validate(algo2, data, measures=['RMSE'], cv=fold5, verbose=True)"
   ]
  },
  {
   "cell_type": "code",
   "execution_count": 7,
   "metadata": {},
   "outputs": [
    {
     "name": "stdout",
     "output_type": "stream",
     "text": [
      "Computing the cosine similarity matrix...\n",
      "Computing the cosine similarity matrix...\n",
      "Computing the cosine similarity matrix...\n",
      "Computing the cosine similarity matrix...\n",
      "Done computing similarity matrix.\n",
      "Computing the cosine similarity matrix...\n",
      "Done computing similarity matrix.\n",
      "Computing the cosine similarity matrix...\n",
      "Done computing similarity matrix.\n",
      "Done computing similarity matrix.\n",
      "Computing the cosine similarity matrix...\n",
      "Computing the cosine similarity matrix...\n",
      "Done computing similarity matrix.\n",
      "Done computing similarity matrix.\n",
      "Done computing similarity matrix.\n",
      "Done computing similarity matrix.\n",
      "The weight before normalizing [0.70766489 0.41250277]\n",
      "Learned weights [0.632 0.368]\n",
      "The weight before normalizing [0.70823004 0.40656603]\n",
      "Learned weights [0.635 0.365]\n",
      "The weight before normalizing [0.72019753 0.38742299]\n",
      "Learned weights [0.65 0.35]\n",
      "The weight before normalizing [0.7269493  0.38744162]\n",
      "Learned weights [0.652 0.348]\n",
      "Computing the cosine similarity matrix...\n",
      "Done computing similarity matrix.\n",
      "Computing the cosine similarity matrix...\n",
      "Done computing similarity matrix.\n",
      "The weight before normalizing [0.71826366 0.3978824 ]\n",
      "Learned weights [0.644 0.356]\n",
      "Evaluating RMSE of algorithm WeightedHybrid on 5 split(s).\n",
      "\n",
      "                  Fold 1  Fold 2  Fold 3  Fold 4  Fold 5  Mean    Std     \n",
      "RMSE (testset)    1.0623  1.0539  1.0500  1.0466  1.0463  1.0518  0.0059  \n",
      "Fit time          14.17   14.10   14.42   14.28   12.68   13.93   0.63    \n",
      "Test time         2.61    2.70    2.61    2.57    2.41    2.58    0.09    \n"
     ]
    }
   ],
   "source": [
    "output3 = cross_validate(hybrid, data, measures=['RMSE'], cv=fold5, verbose=True)"
   ]
  },
  {
   "cell_type": "code",
   "execution_count": 8,
   "metadata": {},
   "outputs": [
    {
     "data": {
      "image/png": "[encoded data removed]",
      "text/plain": [
       "<matplotlib.figure.Figure at 0x115d1cba8>"
      ]
     },
     "metadata": {},
     "output_type": "display_data"
    }
   ],
   "source": [
    "rmse = [output1['test_rmse'], output2['test_rmse'],output3['test_rmse']]\n",
    "plt.boxplot(rmse, labels = ['User_based','Item_baed','Hybrid'], vert = False)\n",
    "plt.xticks([1.00, 1.05, 1.10, 1.15, 1.20])\n",
    "plt.show()"
   ]
  },
  {
   "cell_type": "markdown",
   "metadata": {},
   "source": [
    "# Test Code\n",
    "### Don't change anything below this line. Use it to test your implementation\n",
    "Imports"
   ]
  },
  {
   "cell_type": "code",
   "execution_count": 9,
   "metadata": {},
   "outputs": [],
   "source": [
    "from surprise.model_selection import PredefinedKFold\n",
    "from surprise.accuracy import rmse\n",
    "from surprise import Reader, Dataset\n"
   ]
  },
  {
   "cell_type": "markdown",
   "metadata": {},
   "source": [
    "Read test data"
   ]
  },
  {
   "cell_type": "code",
   "execution_count": 10,
   "metadata": {
    "scrolled": true
   },
   "outputs": [],
   "source": [
    "TEST_reader = Reader(line_format='user item rating', sep=',', skip_lines=1)\n",
    "TEST_train_file = 'test-data-train.csv'\n",
    "TEST_test_file = 'test-data-test.csv'\n",
    "TEST_folds_files = [(TEST_train_file, TEST_test_file)]\n",
    "\n",
    "TEST_data = Dataset.load_from_folds(TEST_folds_files, reader=TEST_reader)"
   ]
  },
  {
   "cell_type": "markdown",
   "metadata": {},
   "source": [
    "Create single split"
   ]
  },
  {
   "cell_type": "code",
   "execution_count": 11,
   "metadata": {},
   "outputs": [],
   "source": [
    "TEST_pkf = PredefinedKFold()\n",
    "TEST_trainset, TEST_testset = next(TEST_pkf.split(TEST_data))"
   ]
  },
  {
   "cell_type": "markdown",
   "metadata": {},
   "source": [
    "Run algorithm"
   ]
  },
  {
   "cell_type": "code",
   "execution_count": 12,
   "metadata": {},
   "outputs": [
    {
     "name": "stdout",
     "output_type": "stream",
     "text": [
      "The autoreload extension is already loaded. To reload it, use:\n",
      "  %reload_ext autoreload\n"
     ]
    }
   ],
   "source": [
    "%load_ext autoreload\n",
    "%autoreload\n",
    "TEST_algo1 = KNNWithMeans(k=2, sim_options={'name': 'cosine', 'user_based': True})\n",
    "TEST_algo2 = KNNWithMeans(k=2, sim_options={'name': 'cosine', 'user_based': False})\n",
    "\n",
    "TEST_hybrid = WeightedHybrid([TEST_algo1, TEST_algo2])"
   ]
  },
  {
   "cell_type": "code",
   "execution_count": 13,
   "metadata": {},
   "outputs": [
    {
     "name": "stdout",
     "output_type": "stream",
     "text": [
      "Computing the cosine similarity matrix...\n",
      "Done computing similarity matrix.\n",
      "Computing the cosine similarity matrix...\n",
      "Done computing similarity matrix.\n",
      "The weight before normalizing [0.46115227 0.75093136]\n",
      "Learned weights [0.38 0.62]\n",
      "Your implementation is correct.\n"
     ]
    }
   ],
   "source": [
    "TEST_correct_weights = [0.380, 0.620]\n",
    "TEST_epsilon = 0.001\n",
    "\n",
    "TEST_hybrid.fit(TEST_trainset)\n",
    "\n",
    "TEST_weights = TEST_hybrid.get_weights()\n",
    "\n",
    "if np.abs(TEST_weights[0] - TEST_correct_weights[0]) < TEST_epsilon and \\\n",
    "    np.abs(TEST_weights[1] - TEST_correct_weights[1]) < TEST_epsilon:\n",
    "    print(\"Your implementation is correct.\")\n",
    "else:\n",
    "    print(\"Your implementation is not correct. Keep working.\")"
   ]
  },
  {
   "cell_type": "code",
   "execution_count": 14,
   "metadata": {},
   "outputs": [
    {
     "name": "stdout",
     "output_type": "stream",
     "text": [
      "RMSE: 2.7842\n",
      "Your implementation is correct.\n"
     ]
    }
   ],
   "source": [
    "TEST_correct_rmse = 2.7840\n",
    "\n",
    "TEST_pred = TEST_hybrid.test(TEST_testset)\n",
    "\n",
    "TEST_rmse = rmse(TEST_pred)\n",
    "\n",
    "if np.abs(TEST_rmse - TEST_correct_rmse) < TEST_epsilon:\n",
    "    print(\"Your implementation is correct.\")\n",
    "else:\n",
    "    print(\"Your implementation is not correct. Keep working.\")"
   ]
  },
  {
   "cell_type": "code",
   "execution_count": null,
   "metadata": {},
   "outputs": [],
   "source": []
  }
 ],
 "metadata": {
  "anaconda-cloud": {},
  "kernelspec": {
   "display_name": "Python 3",
   "language": "python",
   "name": "python3"
  },
  "language_info": {
   "codemirror_mode": {
    "name": "ipython",
    "version": 3
   },
   "file_extension": ".py",
   "mimetype": "text/x-python",
   "name": "python",
   "nbconvert_exporter": "python",
   "pygments_lexer": "ipython3",
   "version": "3.7.3"
  }
 },
 "nbformat": 4,
 "nbformat_minor": 2
}
